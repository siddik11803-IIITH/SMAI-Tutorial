{
 "cells": [
  {
   "cell_type": "code",
   "execution_count": 1,
   "metadata": {},
   "outputs": [],
   "source": [
    "import numpy as np\n",
    "import pandas as pd"
   ]
  },
  {
   "cell_type": "markdown",
   "metadata": {},
   "source": [
    "### Declaring a vector in NumPy"
   ]
  },
  {
   "cell_type": "code",
   "execution_count": 2,
   "metadata": {},
   "outputs": [
    {
     "name": "stdout",
     "output_type": "stream",
     "text": [
      "[1 2 3 4 5]\n"
     ]
    }
   ],
   "source": [
    "ar = [1, 2, 3, 4, 5]\n",
    "numpy_ar = np.array(ar)\n",
    "print(numpy_ar)"
   ]
  },
  {
   "cell_type": "markdown",
   "metadata": {},
   "source": [
    "### Arithmetic with 2 Arrays in NumPy"
   ]
  },
  {
   "cell_type": "code",
   "execution_count": 3,
   "metadata": {},
   "outputs": [
    {
     "name": "stdout",
     "output_type": "stream",
     "text": [
      "[6 6 6 6 6]\n"
     ]
    }
   ],
   "source": [
    "\n",
    "'''\n",
    "This will result in concantenation\n",
    "'''\n",
    "# ar_1 = [1, 2, 3, 4, 5]\n",
    "# ar_2 = [5, 4, 3, 2, 1]\n",
    "\n",
    "\n",
    "'''\n",
    "This will result in addition\n",
    "'''\n",
    "ar_1 = np.array([1, 2, 3, 4, 5])\n",
    "ar_2 = np.array([5, 4, 3, 2, 1])\n",
    "\n",
    "\n",
    "\n",
    "ar_3 = ar_1 + ar_2\n",
    "print(ar_3)"
   ]
  },
  {
   "cell_type": "markdown",
   "metadata": {},
   "source": [
    "### Matrix Operations in NumPy"
   ]
  },
  {
   "cell_type": "code",
   "execution_count": 49,
   "metadata": {},
   "outputs": [
    {
     "name": "stdout",
     "output_type": "stream",
     "text": [
      "(2, 2)\n",
      "[10  1]\n"
     ]
    }
   ],
   "source": [
    "matrix = [[1, 10], [11, 1]] #The basic identity matrix\n",
    "np_matrix = np.asarray(matrix)\n",
    "\n",
    "\n",
    "\n",
    "\n",
    "\n",
    "print(np_matrix.shape)\n",
    "print(np_matrix[:, 1])"
   ]
  },
  {
   "cell_type": "markdown",
   "metadata": {},
   "source": [
    "#### Inverse of a matrix"
   ]
  },
  {
   "cell_type": "code",
   "execution_count": 50,
   "metadata": {},
   "outputs": [
    {
     "name": "stdout",
     "output_type": "stream",
     "text": [
      "[[-0.00917431  0.09174312]\n",
      " [ 0.10091743 -0.00917431]]\n"
     ]
    }
   ],
   "source": [
    "inv_matrix = np.linalg.inv(matrix)\n",
    "print(inv_matrix)"
   ]
  },
  {
   "cell_type": "markdown",
   "metadata": {},
   "source": [
    "#### Eigenvalues"
   ]
  },
  {
   "cell_type": "code",
   "execution_count": 51,
   "metadata": {},
   "outputs": [
    {
     "data": {
      "text/plain": [
       "array([11.48808848, -9.48808848])"
      ]
     },
     "execution_count": 51,
     "metadata": {},
     "output_type": "execute_result"
    }
   ],
   "source": [
    "# np.linalg.eigvalsh(np_matrix) # This must only be used when we know for a fact that the matrix is symmetric\n",
    "# The algorithm that eigh uses is called the \"Jacobi eigenvalue algorithm\". \n",
    "# This algorithm is based on the fact that the eigenvalues of a symmetric matrix can be found by solving a system of linear equations.\n",
    "np.linalg.eigvals(np_matrix)"
   ]
  },
  {
   "cell_type": "markdown",
   "metadata": {},
   "source": [
    "#### Matrix multiplication"
   ]
  },
  {
   "cell_type": "code",
   "execution_count": 52,
   "metadata": {},
   "outputs": [
    {
     "data": {
      "text/plain": [
       "array([[1, 3],\n",
       "       [2, 4]])"
      ]
     },
     "execution_count": 52,
     "metadata": {},
     "output_type": "execute_result"
    }
   ],
   "source": [
    "mat_1 = np.array([[1, 2], [3, 4]])\n",
    "mat_2 = np.array([[0, 1], [1, 0]])\n",
    "mat_1^mat_2"
   ]
  },
  {
   "cell_type": "markdown",
   "metadata": {},
   "source": [
    "### Statistics"
   ]
  },
  {
   "cell_type": "markdown",
   "metadata": {},
   "source": [
    "#### Mean"
   ]
  },
  {
   "cell_type": "code",
   "execution_count": 57,
   "metadata": {},
   "outputs": [
    {
     "name": "stdout",
     "output_type": "stream",
     "text": [
      "Mean:  0.0\n",
      "Standard Deviation:  1.4142135623730951\n",
      "Variance:  2.0\n"
     ]
    }
   ],
   "source": [
    "ar_1 = np.array([-2, -1, 0, 1, 2])\n",
    "print(\"Mean: \", ar_1.mean())\n",
    "print(\"Standard Deviation: \", ar_1.std())\n",
    "print(\"Variance: \", ar_1.var())"
   ]
  }
 ],
 "metadata": {
  "kernelspec": {
   "display_name": "Python 3",
   "language": "python",
   "name": "python3"
  },
  "language_info": {
   "codemirror_mode": {
    "name": "ipython",
    "version": 3
   },
   "file_extension": ".py",
   "mimetype": "text/x-python",
   "name": "python",
   "nbconvert_exporter": "python",
   "pygments_lexer": "ipython3",
   "version": "3.11.2"
  },
  "orig_nbformat": 4
 },
 "nbformat": 4,
 "nbformat_minor": 2
}
